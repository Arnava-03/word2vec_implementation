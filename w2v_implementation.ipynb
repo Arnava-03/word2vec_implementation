{
  "nbformat": 4,
  "nbformat_minor": 0,
  "metadata": {
    "colab": {
      "provenance": [],
      "authorship_tag": "ABX9TyO0PSY+zbI1A+yT8FSWq1At"
    },
    "kernelspec": {
      "name": "python3",
      "display_name": "Python 3"
    },
    "language_info": {
      "name": "python"
    }
  },
  "cells": [
    {
      "cell_type": "markdown",
      "source": [
        "# Implementing Custom Word Embeddings for Healthcare domain"
      ],
      "metadata": {
        "id": "wcKjKfrCczgO"
      }
    },
    {
      "cell_type": "markdown",
      "source": [
        "Implementation of word2vec model\n",
        "Proposed in the research paper - 'Efficient Estimation of Word Representations in Vector Space' by T. Mikolov\n",
        "\n",
        "1.   Focus on the **Continuous Skip Gram** model architecture\n",
        "2.   Motivation to build customised to understand complex medical terminologies.\n",
        "3.   Idea to scale in future (possible by training on large corpus and larger dimensions of word embeddings)\n",
        "\n"
      ],
      "metadata": {
        "id": "kTwOJjZGdHxA"
      }
    },
    {
      "cell_type": "markdown",
      "source": [
        "## Data preprocessing"
      ],
      "metadata": {
        "id": "I0KAnH0-jO8h"
      }
    },
    {
      "cell_type": "code",
      "execution_count": 17,
      "metadata": {
        "id": "jEePaNsRct0M"
      },
      "outputs": [],
      "source": [
        "# get raw data\n",
        "corpus = \"The patient was diagnosed with hypertension and prescribed an antihypertensive medication to help lower blood pressure. Regular monitoring of blood pressure levels was recommended to assess the effectiveness of the treatment. The doctor also advised lifestyle modifications, including a healthier diet, regular exercise, and reducing stress. Hypertension, if left untreated, can lead to serious complications such as heart disease, stroke, and kidney failure. The healthcare provider emphasized the importance of adherence to the prescribed medication and follow-up visits for ongoing management.\"\n",
        "\n"
      ]
    },
    {
      "cell_type": "code",
      "source": [
        "# tokenise text\n",
        "import numpy as np\n",
        "import re\n",
        "\n",
        "def tokenise(text):\n",
        "  text = re.sub(r\"[^\\w\\s]\", \"\", text.lower())\n",
        "  tokens = text.split()\n",
        "  return tokens\n",
        "\n",
        "tokens = tokenise(corpus)\n",
        "print(len(tokens))\n",
        "tokens"
      ],
      "metadata": {
        "colab": {
          "base_uri": "https://localhost:8080/"
        },
        "id": "LIAnKPpEl_Ai",
        "outputId": "94373514-6576-41db-84f4-d635b75060c6"
      },
      "execution_count": 18,
      "outputs": [
        {
          "output_type": "stream",
          "name": "stdout",
          "text": [
            "81\n"
          ]
        },
        {
          "output_type": "execute_result",
          "data": {
            "text/plain": [
              "['the',\n",
              " 'patient',\n",
              " 'was',\n",
              " 'diagnosed',\n",
              " 'with',\n",
              " 'hypertension',\n",
              " 'and',\n",
              " 'prescribed',\n",
              " 'an',\n",
              " 'antihypertensive',\n",
              " 'medication',\n",
              " 'to',\n",
              " 'help',\n",
              " 'lower',\n",
              " 'blood',\n",
              " 'pressure',\n",
              " 'regular',\n",
              " 'monitoring',\n",
              " 'of',\n",
              " 'blood',\n",
              " 'pressure',\n",
              " 'levels',\n",
              " 'was',\n",
              " 'recommended',\n",
              " 'to',\n",
              " 'assess',\n",
              " 'the',\n",
              " 'effectiveness',\n",
              " 'of',\n",
              " 'the',\n",
              " 'treatment',\n",
              " 'the',\n",
              " 'doctor',\n",
              " 'also',\n",
              " 'advised',\n",
              " 'lifestyle',\n",
              " 'modifications',\n",
              " 'including',\n",
              " 'a',\n",
              " 'healthier',\n",
              " 'diet',\n",
              " 'regular',\n",
              " 'exercise',\n",
              " 'and',\n",
              " 'reducing',\n",
              " 'stress',\n",
              " 'hypertension',\n",
              " 'if',\n",
              " 'left',\n",
              " 'untreated',\n",
              " 'can',\n",
              " 'lead',\n",
              " 'to',\n",
              " 'serious',\n",
              " 'complications',\n",
              " 'such',\n",
              " 'as',\n",
              " 'heart',\n",
              " 'disease',\n",
              " 'stroke',\n",
              " 'and',\n",
              " 'kidney',\n",
              " 'failure',\n",
              " 'the',\n",
              " 'healthcare',\n",
              " 'provider',\n",
              " 'emphasized',\n",
              " 'the',\n",
              " 'importance',\n",
              " 'of',\n",
              " 'adherence',\n",
              " 'to',\n",
              " 'the',\n",
              " 'prescribed',\n",
              " 'medication',\n",
              " 'and',\n",
              " 'followup',\n",
              " 'visits',\n",
              " 'for',\n",
              " 'ongoing',\n",
              " 'management']"
            ]
          },
          "metadata": {},
          "execution_count": 18
        }
      ]
    },
    {
      "cell_type": "code",
      "source": [
        "# build vocab\n",
        "from collections import Counter\n",
        "word_count = Counter(tokens)\n",
        "vocab = {word: count for word, count in word_count.items()}\n",
        "print(f'Vocab size: {len(vocab)}')"
      ],
      "metadata": {
        "colab": {
          "base_uri": "https://localhost:8080/"
        },
        "id": "kp3lF7pzmElY",
        "outputId": "f2ea1e47-d7f2-411c-8a90-cc12bd625b99"
      },
      "execution_count": 19,
      "outputs": [
        {
          "output_type": "stream",
          "name": "stdout",
          "text": [
            "Vocab size: 60\n"
          ]
        }
      ]
    },
    {
      "cell_type": "code",
      "source": [
        "print(vocab)"
      ],
      "metadata": {
        "colab": {
          "base_uri": "https://localhost:8080/"
        },
        "id": "PQp3umrKn2Bl",
        "outputId": "d14b1dd3-2327-4bbb-90ba-0cb2e51f858c"
      },
      "execution_count": 20,
      "outputs": [
        {
          "output_type": "stream",
          "name": "stdout",
          "text": [
            "{'the': 7, 'patient': 1, 'was': 2, 'diagnosed': 1, 'with': 1, 'hypertension': 2, 'and': 4, 'prescribed': 2, 'an': 1, 'antihypertensive': 1, 'medication': 2, 'to': 4, 'help': 1, 'lower': 1, 'blood': 2, 'pressure': 2, 'regular': 2, 'monitoring': 1, 'of': 3, 'levels': 1, 'recommended': 1, 'assess': 1, 'effectiveness': 1, 'treatment': 1, 'doctor': 1, 'also': 1, 'advised': 1, 'lifestyle': 1, 'modifications': 1, 'including': 1, 'a': 1, 'healthier': 1, 'diet': 1, 'exercise': 1, 'reducing': 1, 'stress': 1, 'if': 1, 'left': 1, 'untreated': 1, 'can': 1, 'lead': 1, 'serious': 1, 'complications': 1, 'such': 1, 'as': 1, 'heart': 1, 'disease': 1, 'stroke': 1, 'kidney': 1, 'failure': 1, 'healthcare': 1, 'provider': 1, 'emphasized': 1, 'importance': 1, 'adherence': 1, 'followup': 1, 'visits': 1, 'for': 1, 'ongoing': 1, 'management': 1}\n"
          ]
        }
      ]
    },
    {
      "cell_type": "code",
      "source": [
        "#mappings\n",
        "word2idx = {word: idx for idx, word in enumerate(vocab)}\n",
        "idx2word = {idx: word for idx, word in enumerate(vocab)}"
      ],
      "metadata": {
        "id": "TuOrASwQn4Ta"
      },
      "execution_count": 21,
      "outputs": []
    },
    {
      "cell_type": "code",
      "source": [
        "word2idx['a']"
      ],
      "metadata": {
        "colab": {
          "base_uri": "https://localhost:8080/"
        },
        "id": "MQZUjekNpHds",
        "outputId": "fd6f35c7-b195-4c78-a5e0-859a8e37f575"
      },
      "execution_count": 22,
      "outputs": [
        {
          "output_type": "execute_result",
          "data": {
            "text/plain": [
              "30"
            ]
          },
          "metadata": {},
          "execution_count": 22
        }
      ]
    },
    {
      "cell_type": "code",
      "source": [
        "idx2word[30]"
      ],
      "metadata": {
        "colab": {
          "base_uri": "https://localhost:8080/",
          "height": 35
        },
        "id": "9Bdg5DCUpPBS",
        "outputId": "252d5f29-8e43-4153-93da-55c1b609f1ab"
      },
      "execution_count": 23,
      "outputs": [
        {
          "output_type": "execute_result",
          "data": {
            "text/plain": [
              "'a'"
            ],
            "application/vnd.google.colaboratory.intrinsic+json": {
              "type": "string"
            }
          },
          "metadata": {},
          "execution_count": 23
        }
      ]
    },
    {
      "cell_type": "markdown",
      "source": [
        "Generate training data for SkipGrams model <br>\n",
        "Task - Predicting range(=window size) of words before and after the current word\n",
        "*   Prepare context labels as pairs of **(input token, context token)**<br>\n",
        "Example, \"The patient was diagnosed with hypertension\" - <br>\n",
        "(\"diagnosed\", \"patient\")<br>\n",
        "(\"diagnosed\", \"was\")<br>\n",
        "(\"diagnosed\", \"with\")<br>\n",
        "(\"diagnosed\", \"hypertension\")<br>\n",
        "For window size = 2. (2 words before and 2 words after)"
      ],
      "metadata": {
        "id": "T_1yAMMxppOC"
      }
    },
    {
      "cell_type": "code",
      "source": [
        "def concat(*iterables):\n",
        "  for iterable in iterables:\n",
        "    yield from iterable\n",
        "array = concat(range(0, 2), range(2, 4))\n",
        "for a in array:\n",
        "  print(a)"
      ],
      "metadata": {
        "colab": {
          "base_uri": "https://localhost:8080/"
        },
        "id": "VOgI06X13F3Z",
        "outputId": "c655c3ff-ee30-4788-ef31-4ab40093ce62"
      },
      "execution_count": 29,
      "outputs": [
        {
          "output_type": "stream",
          "name": "stdout",
          "text": [
            "0\n",
            "1\n",
            "2\n",
            "3\n"
          ]
        }
      ]
    },
    {
      "cell_type": "code",
      "source": [
        "def generate_training_data(tokens, window_size, word2idx):\n",
        "  X = []\n",
        "  y = []\n",
        "  for i in range(len(tokens)):\n",
        "    context_start = max(0, i - window_size)\n",
        "    context_end = min(len(tokens), i + window_size + 1)\n",
        "    context = tokens[context_start:i] + tokens[i+1:context_end]\n",
        "    for j in range(len(context)):\n",
        "      X.append(one_hot_encode(word2idx[tokens[i]], len(tokens)))\n",
        "      y.append(one_hot_encode(word2idx[context[j]], len(tokens)))\n",
        "  return np.array(X), np.array(y)\n",
        "\n",
        "def one_hot_encode(idx, size):\n",
        "  one_hot = np.zeros(size)\n",
        "  one_hot[idx] = 1\n",
        "  return one_hot\n",
        "\n",
        "X, y = generate_training_data(tokens, 2, word2idx)"
      ],
      "metadata": {
        "id": "6hloazdr1MTJ"
      },
      "execution_count": 35,
      "outputs": []
    },
    {
      "cell_type": "markdown",
      "source": [
        "X and y are made separately instead of pair as shown in example. This is done for future benefit for matrix operations."
      ],
      "metadata": {
        "id": "DJqJ5TdA8Eur"
      }
    },
    {
      "cell_type": "code",
      "source": [
        "X.shape"
      ],
      "metadata": {
        "colab": {
          "base_uri": "https://localhost:8080/"
        },
        "id": "fihci7rt7rSR",
        "outputId": "ab7f1a1e-ecf1-476d-be84-f67120e55ee9"
      },
      "execution_count": 36,
      "outputs": [
        {
          "output_type": "execute_result",
          "data": {
            "text/plain": [
              "(318, 81)"
            ]
          },
          "metadata": {},
          "execution_count": 36
        }
      ]
    },
    {
      "cell_type": "code",
      "source": [
        "y.shape"
      ],
      "metadata": {
        "colab": {
          "base_uri": "https://localhost:8080/"
        },
        "id": "OSGAqopG7tN3",
        "outputId": "e1f7d7a4-990f-4a22-b55d-0271c63efb57"
      },
      "execution_count": 37,
      "outputs": [
        {
          "output_type": "execute_result",
          "data": {
            "text/plain": [
              "(318, 81)"
            ]
          },
          "metadata": {},
          "execution_count": 37
        }
      ]
    },
    {
      "cell_type": "code",
      "source": [
        "X"
      ],
      "metadata": {
        "colab": {
          "base_uri": "https://localhost:8080/"
        },
        "id": "dQWwWBWv7yEf",
        "outputId": "d1e56a66-60ba-4db5-eadd-a61edde2557f"
      },
      "execution_count": 38,
      "outputs": [
        {
          "output_type": "execute_result",
          "data": {
            "text/plain": [
              "array([[1., 0., 0., ..., 0., 0., 0.],\n",
              "       [1., 0., 0., ..., 0., 0., 0.],\n",
              "       [0., 1., 0., ..., 0., 0., 0.],\n",
              "       ...,\n",
              "       [0., 0., 0., ..., 0., 0., 0.],\n",
              "       [0., 0., 0., ..., 0., 0., 0.],\n",
              "       [0., 0., 0., ..., 0., 0., 0.]])"
            ]
          },
          "metadata": {},
          "execution_count": 38
        }
      ]
    },
    {
      "cell_type": "code",
      "source": [
        "y"
      ],
      "metadata": {
        "colab": {
          "base_uri": "https://localhost:8080/"
        },
        "id": "2fnLOIEn7_zJ",
        "outputId": "c1c3e61a-a5b1-4207-b42e-bec8814cad59"
      },
      "execution_count": 39,
      "outputs": [
        {
          "output_type": "execute_result",
          "data": {
            "text/plain": [
              "array([[0., 1., 0., ..., 0., 0., 0.],\n",
              "       [0., 0., 1., ..., 0., 0., 0.],\n",
              "       [1., 0., 0., ..., 0., 0., 0.],\n",
              "       ...,\n",
              "       [0., 0., 0., ..., 0., 0., 0.],\n",
              "       [0., 0., 0., ..., 0., 0., 0.],\n",
              "       [0., 0., 0., ..., 0., 0., 0.]])"
            ]
          },
          "metadata": {},
          "execution_count": 39
        }
      ]
    },
    {
      "cell_type": "code",
      "source": [],
      "metadata": {
        "id": "UkZq6JUl8CqI"
      },
      "execution_count": null,
      "outputs": []
    }
  ]
}