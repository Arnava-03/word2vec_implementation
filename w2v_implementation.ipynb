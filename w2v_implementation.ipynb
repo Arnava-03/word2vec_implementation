{
  "nbformat": 4,
  "nbformat_minor": 0,
  "metadata": {
    "colab": {
      "provenance": [],
      "authorship_tag": "ABX9TyMrA07firJ4eSbb7PImSjn4"
    },
    "kernelspec": {
      "name": "python3",
      "display_name": "Python 3"
    },
    "language_info": {
      "name": "python"
    }
  },
  "cells": [
    {
      "cell_type": "markdown",
      "source": [
        "# Implementing Custom Word Embeddings for Healthcare domain"
      ],
      "metadata": {
        "id": "wcKjKfrCczgO"
      }
    },
    {
      "cell_type": "markdown",
      "source": [
        "Implementation of word2vec model\n",
        "Proposed in the research paper - 'Efficient Estimation of Word Representations in Vector Space' by T. Mikolov\n",
        "\n",
        "1.   Focus on the **Continuous Skip Gram** model architecture\n",
        "2.   Motivation to build customised to understand complex medical terminologies.\n",
        "3.   Idea to scale in future (possible by training on large corpus and larger dimensions of word embeddings)\n",
        "\n"
      ],
      "metadata": {
        "id": "kTwOJjZGdHxA"
      }
    },
    {
      "cell_type": "markdown",
      "source": [
        "## Data preprocessing"
      ],
      "metadata": {
        "id": "I0KAnH0-jO8h"
      }
    },
    {
      "cell_type": "code",
      "execution_count": 1,
      "metadata": {
        "id": "jEePaNsRct0M"
      },
      "outputs": [],
      "source": [
        "# get raw data\n",
        "corpus = \"The patient was diagnosed with hypertension and prescribed an antihypertensive medication to help lower blood pressure. Regular monitoring of blood pressure levels was recommended to assess the effectiveness of the treatment. The doctor also advised lifestyle modifications, including a healthier diet, regular exercise, and reducing stress. Hypertension, if left untreated, can lead to serious complications such as heart disease, stroke, and kidney failure. The healthcare provider emphasized the importance of adherence to the prescribed medication and follow-up visits for ongoing management.\"\n",
        "\n",
        "# similarly we can train the model on numerous articles of PubMed abstracts to get focused embeddings for highly complex and technical words in the healthcare domain."
      ]
    },
    {
      "cell_type": "code",
      "source": [
        "# tokenise text\n",
        "import numpy as np\n",
        "import re\n",
        "\n",
        "def tokenise(text):\n",
        "  text = re.sub(r\"[^\\w\\s]\", \"\", text.lower())\n",
        "  tokens = text.split()\n",
        "  return tokens\n",
        "\n",
        "tokens = tokenise(corpus)\n",
        "print(len(tokens))\n",
        "tokens"
      ],
      "metadata": {
        "colab": {
          "base_uri": "https://localhost:8080/"
        },
        "id": "LIAnKPpEl_Ai",
        "outputId": "fbb74153-6abd-4bac-f480-7d97ef42bd10"
      },
      "execution_count": 2,
      "outputs": [
        {
          "output_type": "stream",
          "name": "stdout",
          "text": [
            "81\n"
          ]
        },
        {
          "output_type": "execute_result",
          "data": {
            "text/plain": [
              "['the',\n",
              " 'patient',\n",
              " 'was',\n",
              " 'diagnosed',\n",
              " 'with',\n",
              " 'hypertension',\n",
              " 'and',\n",
              " 'prescribed',\n",
              " 'an',\n",
              " 'antihypertensive',\n",
              " 'medication',\n",
              " 'to',\n",
              " 'help',\n",
              " 'lower',\n",
              " 'blood',\n",
              " 'pressure',\n",
              " 'regular',\n",
              " 'monitoring',\n",
              " 'of',\n",
              " 'blood',\n",
              " 'pressure',\n",
              " 'levels',\n",
              " 'was',\n",
              " 'recommended',\n",
              " 'to',\n",
              " 'assess',\n",
              " 'the',\n",
              " 'effectiveness',\n",
              " 'of',\n",
              " 'the',\n",
              " 'treatment',\n",
              " 'the',\n",
              " 'doctor',\n",
              " 'also',\n",
              " 'advised',\n",
              " 'lifestyle',\n",
              " 'modifications',\n",
              " 'including',\n",
              " 'a',\n",
              " 'healthier',\n",
              " 'diet',\n",
              " 'regular',\n",
              " 'exercise',\n",
              " 'and',\n",
              " 'reducing',\n",
              " 'stress',\n",
              " 'hypertension',\n",
              " 'if',\n",
              " 'left',\n",
              " 'untreated',\n",
              " 'can',\n",
              " 'lead',\n",
              " 'to',\n",
              " 'serious',\n",
              " 'complications',\n",
              " 'such',\n",
              " 'as',\n",
              " 'heart',\n",
              " 'disease',\n",
              " 'stroke',\n",
              " 'and',\n",
              " 'kidney',\n",
              " 'failure',\n",
              " 'the',\n",
              " 'healthcare',\n",
              " 'provider',\n",
              " 'emphasized',\n",
              " 'the',\n",
              " 'importance',\n",
              " 'of',\n",
              " 'adherence',\n",
              " 'to',\n",
              " 'the',\n",
              " 'prescribed',\n",
              " 'medication',\n",
              " 'and',\n",
              " 'followup',\n",
              " 'visits',\n",
              " 'for',\n",
              " 'ongoing',\n",
              " 'management']"
            ]
          },
          "metadata": {},
          "execution_count": 2
        }
      ]
    },
    {
      "cell_type": "code",
      "source": [
        "# build vocab\n",
        "from collections import Counter\n",
        "word_count = Counter(tokens)\n",
        "vocab = {word: count for word, count in word_count.items()}\n",
        "print(f'Vocab size: {len(vocab)}')"
      ],
      "metadata": {
        "colab": {
          "base_uri": "https://localhost:8080/"
        },
        "id": "kp3lF7pzmElY",
        "outputId": "3e687fb0-0b77-464c-821d-0323f08ca60a"
      },
      "execution_count": 3,
      "outputs": [
        {
          "output_type": "stream",
          "name": "stdout",
          "text": [
            "Vocab size: 60\n"
          ]
        }
      ]
    },
    {
      "cell_type": "code",
      "source": [
        "print(vocab)"
      ],
      "metadata": {
        "colab": {
          "base_uri": "https://localhost:8080/"
        },
        "id": "PQp3umrKn2Bl",
        "outputId": "77ea1d53-cd92-458c-94b5-55f7ff2e57ee"
      },
      "execution_count": 4,
      "outputs": [
        {
          "output_type": "stream",
          "name": "stdout",
          "text": [
            "{'the': 7, 'patient': 1, 'was': 2, 'diagnosed': 1, 'with': 1, 'hypertension': 2, 'and': 4, 'prescribed': 2, 'an': 1, 'antihypertensive': 1, 'medication': 2, 'to': 4, 'help': 1, 'lower': 1, 'blood': 2, 'pressure': 2, 'regular': 2, 'monitoring': 1, 'of': 3, 'levels': 1, 'recommended': 1, 'assess': 1, 'effectiveness': 1, 'treatment': 1, 'doctor': 1, 'also': 1, 'advised': 1, 'lifestyle': 1, 'modifications': 1, 'including': 1, 'a': 1, 'healthier': 1, 'diet': 1, 'exercise': 1, 'reducing': 1, 'stress': 1, 'if': 1, 'left': 1, 'untreated': 1, 'can': 1, 'lead': 1, 'serious': 1, 'complications': 1, 'such': 1, 'as': 1, 'heart': 1, 'disease': 1, 'stroke': 1, 'kidney': 1, 'failure': 1, 'healthcare': 1, 'provider': 1, 'emphasized': 1, 'importance': 1, 'adherence': 1, 'followup': 1, 'visits': 1, 'for': 1, 'ongoing': 1, 'management': 1}\n"
          ]
        }
      ]
    },
    {
      "cell_type": "code",
      "source": [
        "#mappings\n",
        "word2idx = {word: idx for idx, word in enumerate(vocab)}\n",
        "idx2word = {idx: word for idx, word in enumerate(vocab)}"
      ],
      "metadata": {
        "id": "TuOrASwQn4Ta"
      },
      "execution_count": 5,
      "outputs": []
    },
    {
      "cell_type": "code",
      "source": [
        "word2idx['a']"
      ],
      "metadata": {
        "colab": {
          "base_uri": "https://localhost:8080/"
        },
        "id": "MQZUjekNpHds",
        "outputId": "643b719e-0fce-4ba7-a1b1-7ffb2469660a"
      },
      "execution_count": 6,
      "outputs": [
        {
          "output_type": "execute_result",
          "data": {
            "text/plain": [
              "30"
            ]
          },
          "metadata": {},
          "execution_count": 6
        }
      ]
    },
    {
      "cell_type": "code",
      "source": [
        "idx2word[30]"
      ],
      "metadata": {
        "colab": {
          "base_uri": "https://localhost:8080/",
          "height": 35
        },
        "id": "9Bdg5DCUpPBS",
        "outputId": "506cb623-ffbd-45f2-824d-39145d9f389f"
      },
      "execution_count": 7,
      "outputs": [
        {
          "output_type": "execute_result",
          "data": {
            "text/plain": [
              "'a'"
            ],
            "application/vnd.google.colaboratory.intrinsic+json": {
              "type": "string"
            }
          },
          "metadata": {},
          "execution_count": 7
        }
      ]
    },
    {
      "cell_type": "code",
      "source": [
        "len(word2idx)"
      ],
      "metadata": {
        "colab": {
          "base_uri": "https://localhost:8080/"
        },
        "id": "MfCPyBLwibew",
        "outputId": "b837e980-b9ba-4d8e-fdd8-d17c3c2f3b10"
      },
      "execution_count": 8,
      "outputs": [
        {
          "output_type": "execute_result",
          "data": {
            "text/plain": [
              "60"
            ]
          },
          "metadata": {},
          "execution_count": 8
        }
      ]
    },
    {
      "cell_type": "markdown",
      "source": [
        "Generate training data for SkipGrams model <br>\n",
        "Task - Predicting range(=window size) of words before and after the current word\n",
        "*   Prepare context labels as pairs of **(input token, context token)**<br>\n",
        "Example, \"The patient was diagnosed with hypertension\" - <br>\n",
        "(\"diagnosed\", \"patient\")<br>\n",
        "(\"diagnosed\", \"was\")<br>\n",
        "(\"diagnosed\", \"with\")<br>\n",
        "(\"diagnosed\", \"hypertension\")<br>\n",
        "For window size = 2. (2 words before and 2 words after)"
      ],
      "metadata": {
        "id": "T_1yAMMxppOC"
      }
    },
    {
      "cell_type": "code",
      "source": [
        "def concat(*iterables):\n",
        "  for iterable in iterables:\n",
        "    yield from iterable\n",
        "array = concat(range(0, 2), range(2, 4))\n",
        "for a in array:\n",
        "  print(a)"
      ],
      "metadata": {
        "colab": {
          "base_uri": "https://localhost:8080/"
        },
        "id": "VOgI06X13F3Z",
        "outputId": "722ddbb9-2af5-4bbd-d439-cac2bac90604"
      },
      "execution_count": 10,
      "outputs": [
        {
          "output_type": "stream",
          "name": "stdout",
          "text": [
            "0\n",
            "1\n",
            "2\n",
            "3\n"
          ]
        }
      ]
    },
    {
      "cell_type": "code",
      "source": [
        "def generate_training_data(tokens, window_size, word2idx):\n",
        "  X = []\n",
        "  y = []\n",
        "  for i in range(len(tokens)):\n",
        "    context_start = max(0, i - window_size)\n",
        "    context_end = min(len(tokens), i + window_size + 1)\n",
        "    context = tokens[context_start:i] + tokens[i+1:context_end]\n",
        "    for j in range(len(context)):\n",
        "      X.append(one_hot_encode(word2idx[tokens[i]], len(vocab)))\n",
        "      y.append(one_hot_encode(word2idx[context[j]], len(vocab)))\n",
        "  return np.array(X), np.array(y)\n",
        "\n",
        "def one_hot_encode(idx, size):\n",
        "  one_hot = np.zeros(size)\n",
        "  one_hot[idx] = 1\n",
        "  return one_hot\n",
        "\n",
        "X, y = generate_training_data(tokens, 2, word2idx)"
      ],
      "metadata": {
        "id": "6hloazdr1MTJ"
      },
      "execution_count": 11,
      "outputs": []
    },
    {
      "cell_type": "markdown",
      "source": [
        "X and y are made separately instead of pair as shown in example. This is done for future benefit for matrix operations."
      ],
      "metadata": {
        "id": "DJqJ5TdA8Eur"
      }
    },
    {
      "cell_type": "code",
      "source": [
        "X.shape"
      ],
      "metadata": {
        "colab": {
          "base_uri": "https://localhost:8080/"
        },
        "id": "fihci7rt7rSR",
        "outputId": "4dd252d1-a04c-410c-b95b-214acb6d9ce2"
      },
      "execution_count": 12,
      "outputs": [
        {
          "output_type": "execute_result",
          "data": {
            "text/plain": [
              "(318, 60)"
            ]
          },
          "metadata": {},
          "execution_count": 12
        }
      ]
    },
    {
      "cell_type": "code",
      "source": [
        "y.shape"
      ],
      "metadata": {
        "colab": {
          "base_uri": "https://localhost:8080/"
        },
        "id": "OSGAqopG7tN3",
        "outputId": "17db3ef0-018a-429f-bea6-2218b7a1899b"
      },
      "execution_count": 13,
      "outputs": [
        {
          "output_type": "execute_result",
          "data": {
            "text/plain": [
              "(318, 60)"
            ]
          },
          "metadata": {},
          "execution_count": 13
        }
      ]
    },
    {
      "cell_type": "code",
      "source": [
        "X"
      ],
      "metadata": {
        "colab": {
          "base_uri": "https://localhost:8080/"
        },
        "id": "dQWwWBWv7yEf",
        "outputId": "bc6b976a-2c75-4937-ca90-e194f6bd2df7"
      },
      "execution_count": 14,
      "outputs": [
        {
          "output_type": "execute_result",
          "data": {
            "text/plain": [
              "array([[1., 0., 0., ..., 0., 0., 0.],\n",
              "       [1., 0., 0., ..., 0., 0., 0.],\n",
              "       [0., 1., 0., ..., 0., 0., 0.],\n",
              "       ...,\n",
              "       [0., 0., 0., ..., 0., 1., 0.],\n",
              "       [0., 0., 0., ..., 0., 0., 1.],\n",
              "       [0., 0., 0., ..., 0., 0., 1.]])"
            ]
          },
          "metadata": {},
          "execution_count": 14
        }
      ]
    },
    {
      "cell_type": "code",
      "source": [
        "y"
      ],
      "metadata": {
        "colab": {
          "base_uri": "https://localhost:8080/"
        },
        "id": "2fnLOIEn7_zJ",
        "outputId": "23b09bbf-9f94-48a4-e8d9-9b748fbdda4c"
      },
      "execution_count": 15,
      "outputs": [
        {
          "output_type": "execute_result",
          "data": {
            "text/plain": [
              "array([[0., 1., 0., ..., 0., 0., 0.],\n",
              "       [0., 0., 1., ..., 0., 0., 0.],\n",
              "       [1., 0., 0., ..., 0., 0., 0.],\n",
              "       ...,\n",
              "       [0., 0., 0., ..., 0., 0., 1.],\n",
              "       [0., 0., 0., ..., 1., 0., 0.],\n",
              "       [0., 0., 0., ..., 0., 1., 0.]])"
            ]
          },
          "metadata": {},
          "execution_count": 15
        }
      ]
    },
    {
      "cell_type": "markdown",
      "source": [
        "## Model training"
      ],
      "metadata": {
        "id": "8hipogZ6nq_6"
      }
    },
    {
      "cell_type": "markdown",
      "source": [
        "Defining the model using dictionary"
      ],
      "metadata": {
        "id": "NAYzgFW6nuIl"
      }
    },
    {
      "cell_type": "code",
      "source": [
        "def initmodel(vocab_size, embedding_dim):\n",
        "  model = {\n",
        "      'w1': np.random.randn(vocab_size, embedding_dim),\n",
        "      'w2': np.random.randn(embedding_dim, vocab_size)\n",
        "  }\n",
        "  return model"
      ],
      "metadata": {
        "id": "UkZq6JUl8CqI"
      },
      "execution_count": 39,
      "outputs": []
    },
    {
      "cell_type": "code",
      "source": [
        "model = initmodel(len(vocab), 10)"
      ],
      "metadata": {
        "id": "qnVcUnXhoNh_"
      },
      "execution_count": 40,
      "outputs": []
    },
    {
      "cell_type": "code",
      "source": [
        "def forwardpass(model, X, return_cache = True):\n",
        "  w1, w2 = model['w1'], model['w2']\n",
        "  cache = {}\n",
        "  cache['a1'] = np.dot(X, w1)\n",
        "  cache['a2'] = np.dot(cache['a1'], w2)\n",
        "  cache['z'] = softmax(cache['a2'])\n",
        "  if not return_cache:\n",
        "    return cache['z']\n",
        "\n",
        "  return cache\n",
        "\n",
        "def softmax(X):\n",
        "  res = []\n",
        "  for x in X:\n",
        "    exp = np.exp(x)\n",
        "    res.append(exp / exp.sum())\n",
        "  return np.array(res)"
      ],
      "metadata": {
        "id": "HcolJFE2oR13"
      },
      "execution_count": 41,
      "outputs": []
    },
    {
      "cell_type": "code",
      "source": [
        "np.dot(X, model['w1']).shape"
      ],
      "metadata": {
        "colab": {
          "base_uri": "https://localhost:8080/"
        },
        "id": "szdxkrTipNeE",
        "outputId": "8c9c3927-1694-402b-9f66-20d378296f0b"
      },
      "execution_count": 42,
      "outputs": [
        {
          "output_type": "execute_result",
          "data": {
            "text/plain": [
              "(318, 10)"
            ]
          },
          "metadata": {},
          "execution_count": 42
        }
      ]
    },
    {
      "cell_type": "code",
      "source": [
        "np.dot(np.dot(X, model['w1']), model['w2']).shape"
      ],
      "metadata": {
        "colab": {
          "base_uri": "https://localhost:8080/"
        },
        "id": "tEMa_TpJwY3p",
        "outputId": "6cf9fdba-ceb4-40f9-91d7-ce153c1b3aff"
      },
      "execution_count": 43,
      "outputs": [
        {
          "output_type": "execute_result",
          "data": {
            "text/plain": [
              "(318, 60)"
            ]
          },
          "metadata": {},
          "execution_count": 43
        }
      ]
    },
    {
      "cell_type": "code",
      "source": [
        "def backprop(X, y, model, alpha):\n",
        "  cache = forwardpass(model, X, return_cache=True)\n",
        "  w1, w2 = model['w1'], model['w2']\n",
        "  dz2 = cache['z'] - y\n",
        "  dw2 = np.dot(cache['a1'].T, dz2)\n",
        "  dz1 = np.dot(dz2, w2.T)\n",
        "  dw1 = np.dot(X.T, dz1)\n",
        "  model['w1'] -= alpha * dw1\n",
        "  model['w2'] -= alpha * dw2\n",
        "  return crossentropy(cache['z'], y)\n",
        "  # returning loss is useful to track progress of training\n",
        "\n",
        "def crossentropy(y_pred, y):\n",
        "  return -np.sum(np.log(y_pred)*y)\n"
      ],
      "metadata": {
        "id": "mUenkyIIwcno"
      },
      "execution_count": 44,
      "outputs": []
    },
    {
      "cell_type": "code",
      "source": [
        "alpha = 0.01 #learning rate\n",
        "n_iter = 100\n",
        "loss = [backprop(X, y, model, alpha) for _ in range(n_iter)]\n"
      ],
      "metadata": {
        "id": "oYFWZO1pxkeV"
      },
      "execution_count": 45,
      "outputs": []
    },
    {
      "cell_type": "code",
      "source": [
        "import matplotlib.pyplot as plt\n",
        "%matplotlib inline\n",
        "plt.figure(figsize = (10, 5))\n",
        "plt.plot(loss)\n",
        "plt.xlabel('Iterations')\n",
        "plt.ylabel('Loss')\n",
        "plt.show()"
      ],
      "metadata": {
        "colab": {
          "base_uri": "https://localhost:8080/",
          "height": 465
        },
        "id": "MLg701Keyg3h",
        "outputId": "ff180b68-d32c-48bd-c4cc-63ea179154f9"
      },
      "execution_count": 46,
      "outputs": [
        {
          "output_type": "display_data",
          "data": {
            "text/plain": [
              "<Figure size 1000x500 with 1 Axes>"
            ],
            "image/png": "[encoded data removed]"
          },
          "metadata": {}
        }
      ]
    },
    {
      "cell_type": "code",
      "source": [
        "model['w1'][0]"
      ],
      "metadata": {
        "colab": {
          "base_uri": "https://localhost:8080/"
        },
        "id": "D9rdpyCdy2VA",
        "outputId": "ca3f947c-ca1f-406a-d69e-0235ea545421"
      },
      "execution_count": 47,
      "outputs": [
        {
          "output_type": "execute_result",
          "data": {
            "text/plain": [
              "array([-1.13513988, -1.1656708 ,  1.13573986, -1.40201976,  0.53007077,\n",
              "       -1.01005833,  0.66854072,  0.75596303, -0.05238429,  0.48796178])"
            ]
          },
          "metadata": {},
          "execution_count": 47
        }
      ]
    },
    {
      "cell_type": "code",
      "source": [
        "model['w1'].shape"
      ],
      "metadata": {
        "colab": {
          "base_uri": "https://localhost:8080/"
        },
        "id": "yGxAEazR0C-Q",
        "outputId": "7274b6a3-f849-4dcc-98f8-00ab86ca3baf"
      },
      "execution_count": 48,
      "outputs": [
        {
          "output_type": "execute_result",
          "data": {
            "text/plain": [
              "(60, 10)"
            ]
          },
          "metadata": {},
          "execution_count": 48
        }
      ]
    },
    {
      "cell_type": "code",
      "source": [
        "def get_embedding(model, word):\n",
        "  try:\n",
        "    idx = word2idx[word]\n",
        "  except KeyError:\n",
        "    print(f'Word {word} not in vocab')\n",
        "    return None\n",
        "  return model['w1'][idx]"
      ],
      "metadata": {
        "id": "yo48nWY5zxec"
      },
      "execution_count": 49,
      "outputs": []
    },
    {
      "cell_type": "code",
      "source": [
        "word = 'blood'\n",
        "get_embedding(model, word)\n"
      ],
      "metadata": {
        "colab": {
          "base_uri": "https://localhost:8080/"
        },
        "id": "1MQ6oOTK0o85",
        "outputId": "0cc1807e-cb2b-4b40-92c3-032fd43373aa"
      },
      "execution_count": 50,
      "outputs": [
        {
          "output_type": "execute_result",
          "data": {
            "text/plain": [
              "array([-0.27194739, -1.71132437,  2.34682964,  0.57371807, -0.00931908,\n",
              "        0.48738862, -0.33239436, -0.61146802, -0.84813899, -0.99400801])"
            ]
          },
          "metadata": {},
          "execution_count": 50
        }
      ]
    },
    {
      "cell_type": "code",
      "source": [
        "#another method to retrieve embeddings\n",
        "idx = word2idx[word]\n",
        "encode = one_hot_encode(idx, len(vocab))\n",
        "forwardpass(model, encode)['a1']"
      ],
      "metadata": {
        "colab": {
          "base_uri": "https://localhost:8080/"
        },
        "id": "uk9aOVly09Zw",
        "outputId": "f3bf5b82-7185-49db-d71e-de1c7799aa89"
      },
      "execution_count": 52,
      "outputs": [
        {
          "output_type": "execute_result",
          "data": {
            "text/plain": [
              "array([-0.27194739, -1.71132437,  2.34682964,  0.57371807, -0.00931908,\n",
              "        0.48738862, -0.33239436, -0.61146802, -0.84813899, -0.99400801])"
            ]
          },
          "metadata": {},
          "execution_count": 52
        }
      ]
    },
    {
      "cell_type": "code",
      "source": [],
      "metadata": {
        "id": "iMXmgIPD1Nl_"
      },
      "execution_count": null,
      "outputs": []
    },
    {
      "cell_type": "markdown",
      "source": [
        "## Some tests"
      ],
      "metadata": {
        "id": "PWf4VMod3dYw"
      }
    },
    {
      "cell_type": "code",
      "source": [
        "def similarity(word1, word2):\n",
        "  embedding1 = get_embedding(model, word1)\n",
        "  embedding2 = get_embedding(model, word2)\n",
        "  return np.round(np.dot(embedding1, embedding2) / (np.linalg.norm(embedding1) * np.linalg.norm(embedding2)), 3)"
      ],
      "metadata": {
        "id": "JofQ6x_A3etO"
      },
      "execution_count": 60,
      "outputs": []
    },
    {
      "cell_type": "code",
      "source": [
        "similarity('patient', 'hypertension')"
      ],
      "metadata": {
        "colab": {
          "base_uri": "https://localhost:8080/"
        },
        "id": "ZcizpRzO3owW",
        "outputId": "5ab2980a-bc68-4e0a-88ca-775272387251"
      },
      "execution_count": 61,
      "outputs": [
        {
          "output_type": "execute_result",
          "data": {
            "text/plain": [
              "0.496"
            ]
          },
          "metadata": {},
          "execution_count": 61
        }
      ]
    },
    {
      "cell_type": "code",
      "source": [
        "similarity('patient', 'diagnosed')"
      ],
      "metadata": {
        "colab": {
          "base_uri": "https://localhost:8080/"
        },
        "id": "MI9NiI4-3rWE",
        "outputId": "21f2099c-c88f-48b0-ac62-ac1ac2bd21a1"
      },
      "execution_count": 62,
      "outputs": [
        {
          "output_type": "execute_result",
          "data": {
            "text/plain": [
              "0.473"
            ]
          },
          "metadata": {},
          "execution_count": 62
        }
      ]
    },
    {
      "cell_type": "code",
      "source": [
        "similarity('hypertension', 'diagnosed')"
      ],
      "metadata": {
        "colab": {
          "base_uri": "https://localhost:8080/"
        },
        "id": "RHJyk7uX3tr-",
        "outputId": "c2c01ab3-0942-4014-93b0-22bec1572f5a"
      },
      "execution_count": 63,
      "outputs": [
        {
          "output_type": "execute_result",
          "data": {
            "text/plain": [
              "0.439"
            ]
          },
          "metadata": {},
          "execution_count": 63
        }
      ]
    },
    {
      "cell_type": "code",
      "source": [
        "similarity('blood', 'heart')"
      ],
      "metadata": {
        "colab": {
          "base_uri": "https://localhost:8080/"
        },
        "id": "wxBX1Y9y3wAt",
        "outputId": "65d1abd5-02b6-450c-ba5d-774bf59e3825"
      },
      "execution_count": 64,
      "outputs": [
        {
          "output_type": "execute_result",
          "data": {
            "text/plain": [
              "0.236"
            ]
          },
          "metadata": {},
          "execution_count": 64
        }
      ]
    },
    {
      "cell_type": "code",
      "source": [
        "similarity('blood', 'pressure')"
      ],
      "metadata": {
        "colab": {
          "base_uri": "https://localhost:8080/"
        },
        "id": "_AoG2KNu4DV-",
        "outputId": "1bd474f0-40cb-4cbc-8001-aa788268aeef"
      },
      "execution_count": 65,
      "outputs": [
        {
          "output_type": "execute_result",
          "data": {
            "text/plain": [
              "0.449"
            ]
          },
          "metadata": {},
          "execution_count": 65
        }
      ]
    },
    {
      "cell_type": "code",
      "source": [
        "def closest_word(word, n):\n",
        "  similarities = []\n",
        "  for w in vocab:\n",
        "    if w == word:\n",
        "      continue\n",
        "    sim = similarity(word, w)\n",
        "    similarities.append((w, sim))\n",
        "  similarities.sort(key=lambda x: x[1], reverse=True)\n",
        "  return similarities[:n]\n"
      ],
      "metadata": {
        "id": "hVlUxQSN4Gp2"
      },
      "execution_count": 69,
      "outputs": []
    },
    {
      "cell_type": "code",
      "source": [
        "closest_word('hypertension', 10)"
      ],
      "metadata": {
        "colab": {
          "base_uri": "https://localhost:8080/"
        },
        "id": "QXyuAs0X43-e",
        "outputId": "bb756af7-534e-448d-a5cf-a103fdba7f16"
      },
      "execution_count": 70,
      "outputs": [
        {
          "output_type": "execute_result",
          "data": {
            "text/plain": [
              "[('visits', 0.76),\n",
              " ('with', 0.549),\n",
              " ('patient', 0.496),\n",
              " ('and', 0.493),\n",
              " ('an', 0.448),\n",
              " ('diagnosed', 0.439),\n",
              " ('reducing', 0.415),\n",
              " ('stress', 0.373),\n",
              " ('treatment', 0.342),\n",
              " ('kidney', 0.325)]"
            ]
          },
          "metadata": {},
          "execution_count": 70
        }
      ]
    },
    {
      "cell_type": "code",
      "source": [
        "closest_word('blood', 10)"
      ],
      "metadata": {
        "colab": {
          "base_uri": "https://localhost:8080/"
        },
        "id": "-uOoxgyx46U9",
        "outputId": "a7de34cd-ede3-4f95-a09e-0137811507a1"
      },
      "execution_count": 71,
      "outputs": [
        {
          "output_type": "execute_result",
          "data": {
            "text/plain": [
              "[('monitoring', 0.688),\n",
              " ('pressure', 0.449),\n",
              " ('to', 0.43),\n",
              " ('regular', 0.379),\n",
              " ('such', 0.368),\n",
              " ('recommended', 0.346),\n",
              " ('help', 0.335),\n",
              " ('levels', 0.332),\n",
              " ('with', 0.329),\n",
              " ('effectiveness', 0.324)]"
            ]
          },
          "metadata": {},
          "execution_count": 71
        }
      ]
    },
    {
      "cell_type": "code",
      "source": [
        "from sklearn.decomposition import PCA\n",
        "import matplotlib.pyplot as plt\n",
        "%matplotlib inline\n",
        "X = PCA(n_components=2).fit_transform(model['w1'][:10])\n",
        "plt.figure(figsize=(7, 7))\n",
        "for i in range(10):\n",
        "  plt.scatter(X[i, 0], X[i, 1])\n",
        "  plt.text(X[i, 0] + 0.05, X[i, 1] + 0.05, list(vocab.keys())[i])\n",
        "plt.title('Embeddings visualisation using PCA (first 10 words)')\n",
        "plt.xlabel(\"Principal Component 1\")\n",
        "plt.ylabel(\"Principal Component 2\")\n",
        "plt.show()"
      ],
      "metadata": {
        "colab": {
          "base_uri": "https://localhost:8080/",
          "height": 641
        },
        "id": "HVCsXEwu493w",
        "outputId": "19aaa3fa-5f59-4ae4-88c5-90454bda024d"
      },
      "execution_count": 79,
      "outputs": [
        {
          "output_type": "display_data",
          "data": {
            "text/plain": [
              "<Figure size 700x700 with 1 Axes>"
            ],
            "image/png": "[encoded data removed]"
          },
          "metadata": {}
        }
      ]
    },
    {
      "cell_type": "code",
      "source": [],
      "metadata": {
        "id": "LAvmU9zv6cYY"
      },
      "execution_count": null,
      "outputs": []
    }
  ]
}