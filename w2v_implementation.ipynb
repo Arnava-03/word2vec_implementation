{
  "nbformat": 4,
  "nbformat_minor": 0,
  "metadata": {
    "colab": {
      "provenance": [],
      "authorship_tag": "ABX9TyN4SoxPiKatdtLKUzRJGKFf"
    },
    "kernelspec": {
      "name": "python3",
      "display_name": "Python 3"
    },
    "language_info": {
      "name": "python"
    }
  },
  "cells": [
    {
      "cell_type": "markdown",
      "source": [
        "# Implementing Custom Word Embeddings for Healthcare domain"
      ],
      "metadata": {
        "id": "wcKjKfrCczgO"
      }
    },
    {
      "cell_type": "markdown",
      "source": [
        "Implementation of word2vec model\n",
        "Proposed in the research paper - 'Efficient Estimation of Word Representations in Vector Space' by T. Mikolov\n",
        "\n",
        "1.   Focus on the **Continuous Skip Gram** model architecture\n",
        "2.   Motivation to build customised to understand complex medical terminologies.\n",
        "3.   Idea to scale in future (possible by training on large corpus and larger dimensions of word embeddings)\n",
        "\n"
      ],
      "metadata": {
        "id": "kTwOJjZGdHxA"
      }
    },
    {
      "cell_type": "markdown",
      "source": [
        "## Data preprocessing"
      ],
      "metadata": {
        "id": "I0KAnH0-jO8h"
      }
    },
    {
      "cell_type": "code",
      "execution_count": 1,
      "metadata": {
        "id": "jEePaNsRct0M"
      },
      "outputs": [],
      "source": [
        "# get raw data\n",
        "corpus = \"The patient was diagnosed with hypertension and prescribed an antihypertensive medication to help lower blood pressure. Regular monitoring of blood pressure levels was recommended to assess the effectiveness of the treatment. The doctor also advised lifestyle modifications, including a healthier diet, regular exercise, and reducing stress. Hypertension, if left untreated, can lead to serious complications such as heart disease, stroke, and kidney failure. The healthcare provider emphasized the importance of adherence to the prescribed medication and follow-up visits for ongoing management.\"\n",
        "\n"
      ]
    },
    {
      "cell_type": "code",
      "source": [
        "# tokenise text\n",
        "import numpy as np\n",
        "import re\n",
        "\n",
        "def tokenise(text):\n",
        "  text = re.sub(r\"[^\\w\\s]\", \"\", text.lower())\n",
        "  tokens = text.split()\n",
        "  return tokens\n",
        "\n",
        "tokens = tokenise(corpus)\n",
        "print(len(tokens))\n",
        "tokens"
      ],
      "metadata": {
        "colab": {
          "base_uri": "https://localhost:8080/"
        },
        "id": "LIAnKPpEl_Ai",
        "outputId": "fd5db1d2-c669-4314-d54f-eb84111d3e28"
      },
      "execution_count": 5,
      "outputs": [
        {
          "output_type": "stream",
          "name": "stdout",
          "text": [
            "81\n"
          ]
        },
        {
          "output_type": "execute_result",
          "data": {
            "text/plain": [
              "['the',\n",
              " 'patient',\n",
              " 'was',\n",
              " 'diagnosed',\n",
              " 'with',\n",
              " 'hypertension',\n",
              " 'and',\n",
              " 'prescribed',\n",
              " 'an',\n",
              " 'antihypertensive',\n",
              " 'medication',\n",
              " 'to',\n",
              " 'help',\n",
              " 'lower',\n",
              " 'blood',\n",
              " 'pressure',\n",
              " 'regular',\n",
              " 'monitoring',\n",
              " 'of',\n",
              " 'blood',\n",
              " 'pressure',\n",
              " 'levels',\n",
              " 'was',\n",
              " 'recommended',\n",
              " 'to',\n",
              " 'assess',\n",
              " 'the',\n",
              " 'effectiveness',\n",
              " 'of',\n",
              " 'the',\n",
              " 'treatment',\n",
              " 'the',\n",
              " 'doctor',\n",
              " 'also',\n",
              " 'advised',\n",
              " 'lifestyle',\n",
              " 'modifications',\n",
              " 'including',\n",
              " 'a',\n",
              " 'healthier',\n",
              " 'diet',\n",
              " 'regular',\n",
              " 'exercise',\n",
              " 'and',\n",
              " 'reducing',\n",
              " 'stress',\n",
              " 'hypertension',\n",
              " 'if',\n",
              " 'left',\n",
              " 'untreated',\n",
              " 'can',\n",
              " 'lead',\n",
              " 'to',\n",
              " 'serious',\n",
              " 'complications',\n",
              " 'such',\n",
              " 'as',\n",
              " 'heart',\n",
              " 'disease',\n",
              " 'stroke',\n",
              " 'and',\n",
              " 'kidney',\n",
              " 'failure',\n",
              " 'the',\n",
              " 'healthcare',\n",
              " 'provider',\n",
              " 'emphasized',\n",
              " 'the',\n",
              " 'importance',\n",
              " 'of',\n",
              " 'adherence',\n",
              " 'to',\n",
              " 'the',\n",
              " 'prescribed',\n",
              " 'medication',\n",
              " 'and',\n",
              " 'followup',\n",
              " 'visits',\n",
              " 'for',\n",
              " 'ongoing',\n",
              " 'management']"
            ]
          },
          "metadata": {},
          "execution_count": 5
        }
      ]
    },
    {
      "cell_type": "code",
      "source": [
        "# build vocab\n",
        "from collections import Counter\n",
        "word_count = Counter(tokens)\n",
        "vocab = {word: count for word, count in word_count.items()}\n",
        "print(f'Vocab size: {len(vocab)}')"
      ],
      "metadata": {
        "colab": {
          "base_uri": "https://localhost:8080/"
        },
        "id": "kp3lF7pzmElY",
        "outputId": "9b39f8c7-699c-4c9c-aaf4-5e3cbd32a5df"
      },
      "execution_count": 6,
      "outputs": [
        {
          "output_type": "stream",
          "name": "stdout",
          "text": [
            "Vocab size: 60\n"
          ]
        }
      ]
    },
    {
      "cell_type": "code",
      "source": [
        "print(vocab)"
      ],
      "metadata": {
        "colab": {
          "base_uri": "https://localhost:8080/"
        },
        "id": "PQp3umrKn2Bl",
        "outputId": "5e243130-5645-4923-acd5-398e67eceef2"
      },
      "execution_count": 7,
      "outputs": [
        {
          "output_type": "stream",
          "name": "stdout",
          "text": [
            "{'the': 7, 'patient': 1, 'was': 2, 'diagnosed': 1, 'with': 1, 'hypertension': 2, 'and': 4, 'prescribed': 2, 'an': 1, 'antihypertensive': 1, 'medication': 2, 'to': 4, 'help': 1, 'lower': 1, 'blood': 2, 'pressure': 2, 'regular': 2, 'monitoring': 1, 'of': 3, 'levels': 1, 'recommended': 1, 'assess': 1, 'effectiveness': 1, 'treatment': 1, 'doctor': 1, 'also': 1, 'advised': 1, 'lifestyle': 1, 'modifications': 1, 'including': 1, 'a': 1, 'healthier': 1, 'diet': 1, 'exercise': 1, 'reducing': 1, 'stress': 1, 'if': 1, 'left': 1, 'untreated': 1, 'can': 1, 'lead': 1, 'serious': 1, 'complications': 1, 'such': 1, 'as': 1, 'heart': 1, 'disease': 1, 'stroke': 1, 'kidney': 1, 'failure': 1, 'healthcare': 1, 'provider': 1, 'emphasized': 1, 'importance': 1, 'adherence': 1, 'followup': 1, 'visits': 1, 'for': 1, 'ongoing': 1, 'management': 1}\n"
          ]
        }
      ]
    },
    {
      "cell_type": "code",
      "source": [
        "#mappings\n",
        "word2idx = {word: idx for idx, word in enumerate(vocab)}\n",
        "idx2word = {idx: word for idx, word in enumerate(vocab)}"
      ],
      "metadata": {
        "id": "TuOrASwQn4Ta"
      },
      "execution_count": 8,
      "outputs": []
    },
    {
      "cell_type": "code",
      "source": [
        "word2idx['a']"
      ],
      "metadata": {
        "colab": {
          "base_uri": "https://localhost:8080/"
        },
        "id": "MQZUjekNpHds",
        "outputId": "2e93ecf3-4d70-426c-cade-1663669057b5"
      },
      "execution_count": 11,
      "outputs": [
        {
          "output_type": "execute_result",
          "data": {
            "text/plain": [
              "30"
            ]
          },
          "metadata": {},
          "execution_count": 11
        }
      ]
    },
    {
      "cell_type": "code",
      "source": [
        "idx2word[30]"
      ],
      "metadata": {
        "colab": {
          "base_uri": "https://localhost:8080/",
          "height": 35
        },
        "id": "9Bdg5DCUpPBS",
        "outputId": "b7ab364d-104e-47d0-e467-e35ef32ec178"
      },
      "execution_count": 12,
      "outputs": [
        {
          "output_type": "execute_result",
          "data": {
            "text/plain": [
              "'a'"
            ],
            "application/vnd.google.colaboratory.intrinsic+json": {
              "type": "string"
            }
          },
          "metadata": {},
          "execution_count": 12
        }
      ]
    },
    {
      "cell_type": "markdown",
      "source": [
        "Generate training data for SkipGrams model <br>\n",
        "Task - Predicting range(=window size) of words before and after the current word\n",
        "*   Prepare context labels as pairs of **(input token, context token)**\n",
        "\n"
      ],
      "metadata": {
        "id": "T_1yAMMxppOC"
      }
    },
    {
      "cell_type": "code",
      "source": [],
      "metadata": {
        "id": "vNJo3TjSpawo"
      },
      "execution_count": null,
      "outputs": []
    }
  ]
}