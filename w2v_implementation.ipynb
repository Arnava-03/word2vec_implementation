{
  "nbformat": 4,
  "nbformat_minor": 0,
  "metadata": {
    "colab": {
      "provenance": [],
      "authorship_tag": "ABX9TyNU2AFaAGG09AuksZIb6w57"
    },
    "kernelspec": {
      "name": "python3",
      "display_name": "Python 3"
    },
    "language_info": {
      "name": "python"
    }
  },
  "cells": [
    {
      "cell_type": "markdown",
      "source": [
        "# Implementing Custom Word Embeddings for Healthcare domain"
      ],
      "metadata": {
        "id": "wcKjKfrCczgO"
      }
    },
    {
      "cell_type": "markdown",
      "source": [
        "Implementation of word2vec model\n",
        "Proposed in the research paper - 'Efficient Estimation of Word Representations in Vector Space' by T. Mikolov\n",
        "\n",
        "1.   Focus on the **Continuous Skip Gram** model architecture\n",
        "2.   Motivation to build customised to understand complex medical terminologies.\n",
        "3.   Idea to scale in future (possible by training on large corpus and larger dimensions of word embeddings)\n",
        "\n"
      ],
      "metadata": {
        "id": "kTwOJjZGdHxA"
      }
    },
    {
      "cell_type": "markdown",
      "source": [
        "## Data preprocessing"
      ],
      "metadata": {
        "id": "I0KAnH0-jO8h"
      }
    },
    {
      "cell_type": "code",
      "execution_count": 1,
      "metadata": {
        "id": "jEePaNsRct0M"
      },
      "outputs": [],
      "source": [
        "# get raw data\n",
        "corpus = \"The patient was diagnosed with hypertension and prescribed an antihypertensive medication to help lower blood pressure. Regular monitoring of blood pressure levels was recommended to assess the effectiveness of the treatment. The doctor also advised lifestyle modifications, including a healthier diet, regular exercise, and reducing stress. Hypertension, if left untreated, can lead to serious complications such as heart disease, stroke, and kidney failure. The healthcare provider emphasized the importance of adherence to the prescribed medication and follow-up visits for ongoing management.\"\n",
        "\n"
      ]
    },
    {
      "cell_type": "code",
      "source": [
        "# tokenise text\n",
        "import numpy as np\n",
        "import re\n",
        "\n",
        "def tokenise(text):\n",
        "  text = re.sub(r\"[^\\w\\s]\", \"\", text.lower())\n",
        "  tokens = text.split()\n",
        "  return tokens\n",
        "\n",
        "tokens = tokenise(corpus)\n",
        "print(len(tokens))\n",
        "tokens"
      ],
      "metadata": {
        "colab": {
          "base_uri": "https://localhost:8080/"
        },
        "id": "LIAnKPpEl_Ai",
        "outputId": "fbb74153-6abd-4bac-f480-7d97ef42bd10"
      },
      "execution_count": 2,
      "outputs": [
        {
          "output_type": "stream",
          "name": "stdout",
          "text": [
            "81\n"
          ]
        },
        {
          "output_type": "execute_result",
          "data": {
            "text/plain": [
              "['the',\n",
              " 'patient',\n",
              " 'was',\n",
              " 'diagnosed',\n",
              " 'with',\n",
              " 'hypertension',\n",
              " 'and',\n",
              " 'prescribed',\n",
              " 'an',\n",
              " 'antihypertensive',\n",
              " 'medication',\n",
              " 'to',\n",
              " 'help',\n",
              " 'lower',\n",
              " 'blood',\n",
              " 'pressure',\n",
              " 'regular',\n",
              " 'monitoring',\n",
              " 'of',\n",
              " 'blood',\n",
              " 'pressure',\n",
              " 'levels',\n",
              " 'was',\n",
              " 'recommended',\n",
              " 'to',\n",
              " 'assess',\n",
              " 'the',\n",
              " 'effectiveness',\n",
              " 'of',\n",
              " 'the',\n",
              " 'treatment',\n",
              " 'the',\n",
              " 'doctor',\n",
              " 'also',\n",
              " 'advised',\n",
              " 'lifestyle',\n",
              " 'modifications',\n",
              " 'including',\n",
              " 'a',\n",
              " 'healthier',\n",
              " 'diet',\n",
              " 'regular',\n",
              " 'exercise',\n",
              " 'and',\n",
              " 'reducing',\n",
              " 'stress',\n",
              " 'hypertension',\n",
              " 'if',\n",
              " 'left',\n",
              " 'untreated',\n",
              " 'can',\n",
              " 'lead',\n",
              " 'to',\n",
              " 'serious',\n",
              " 'complications',\n",
              " 'such',\n",
              " 'as',\n",
              " 'heart',\n",
              " 'disease',\n",
              " 'stroke',\n",
              " 'and',\n",
              " 'kidney',\n",
              " 'failure',\n",
              " 'the',\n",
              " 'healthcare',\n",
              " 'provider',\n",
              " 'emphasized',\n",
              " 'the',\n",
              " 'importance',\n",
              " 'of',\n",
              " 'adherence',\n",
              " 'to',\n",
              " 'the',\n",
              " 'prescribed',\n",
              " 'medication',\n",
              " 'and',\n",
              " 'followup',\n",
              " 'visits',\n",
              " 'for',\n",
              " 'ongoing',\n",
              " 'management']"
            ]
          },
          "metadata": {},
          "execution_count": 2
        }
      ]
    },
    {
      "cell_type": "code",
      "source": [
        "# build vocab\n",
        "from collections import Counter\n",
        "word_count = Counter(tokens)\n",
        "vocab = {word: count for word, count in word_count.items()}\n",
        "print(f'Vocab size: {len(vocab)}')"
      ],
      "metadata": {
        "colab": {
          "base_uri": "https://localhost:8080/"
        },
        "id": "kp3lF7pzmElY",
        "outputId": "3e687fb0-0b77-464c-821d-0323f08ca60a"
      },
      "execution_count": 3,
      "outputs": [
        {
          "output_type": "stream",
          "name": "stdout",
          "text": [
            "Vocab size: 60\n"
          ]
        }
      ]
    },
    {
      "cell_type": "code",
      "source": [
        "print(vocab)"
      ],
      "metadata": {
        "colab": {
          "base_uri": "https://localhost:8080/"
        },
        "id": "PQp3umrKn2Bl",
        "outputId": "77ea1d53-cd92-458c-94b5-55f7ff2e57ee"
      },
      "execution_count": 4,
      "outputs": [
        {
          "output_type": "stream",
          "name": "stdout",
          "text": [
            "{'the': 7, 'patient': 1, 'was': 2, 'diagnosed': 1, 'with': 1, 'hypertension': 2, 'and': 4, 'prescribed': 2, 'an': 1, 'antihypertensive': 1, 'medication': 2, 'to': 4, 'help': 1, 'lower': 1, 'blood': 2, 'pressure': 2, 'regular': 2, 'monitoring': 1, 'of': 3, 'levels': 1, 'recommended': 1, 'assess': 1, 'effectiveness': 1, 'treatment': 1, 'doctor': 1, 'also': 1, 'advised': 1, 'lifestyle': 1, 'modifications': 1, 'including': 1, 'a': 1, 'healthier': 1, 'diet': 1, 'exercise': 1, 'reducing': 1, 'stress': 1, 'if': 1, 'left': 1, 'untreated': 1, 'can': 1, 'lead': 1, 'serious': 1, 'complications': 1, 'such': 1, 'as': 1, 'heart': 1, 'disease': 1, 'stroke': 1, 'kidney': 1, 'failure': 1, 'healthcare': 1, 'provider': 1, 'emphasized': 1, 'importance': 1, 'adherence': 1, 'followup': 1, 'visits': 1, 'for': 1, 'ongoing': 1, 'management': 1}\n"
          ]
        }
      ]
    },
    {
      "cell_type": "code",
      "source": [
        "#mappings\n",
        "word2idx = {word: idx for idx, word in enumerate(vocab)}\n",
        "idx2word = {idx: word for idx, word in enumerate(vocab)}"
      ],
      "metadata": {
        "id": "TuOrASwQn4Ta"
      },
      "execution_count": 5,
      "outputs": []
    },
    {
      "cell_type": "code",
      "source": [
        "word2idx['a']"
      ],
      "metadata": {
        "colab": {
          "base_uri": "https://localhost:8080/"
        },
        "id": "MQZUjekNpHds",
        "outputId": "643b719e-0fce-4ba7-a1b1-7ffb2469660a"
      },
      "execution_count": 6,
      "outputs": [
        {
          "output_type": "execute_result",
          "data": {
            "text/plain": [
              "30"
            ]
          },
          "metadata": {},
          "execution_count": 6
        }
      ]
    },
    {
      "cell_type": "code",
      "source": [
        "idx2word[30]"
      ],
      "metadata": {
        "colab": {
          "base_uri": "https://localhost:8080/",
          "height": 35
        },
        "id": "9Bdg5DCUpPBS",
        "outputId": "506cb623-ffbd-45f2-824d-39145d9f389f"
      },
      "execution_count": 7,
      "outputs": [
        {
          "output_type": "execute_result",
          "data": {
            "text/plain": [
              "'a'"
            ],
            "application/vnd.google.colaboratory.intrinsic+json": {
              "type": "string"
            }
          },
          "metadata": {},
          "execution_count": 7
        }
      ]
    },
    {
      "cell_type": "code",
      "source": [
        "len(word2idx)"
      ],
      "metadata": {
        "colab": {
          "base_uri": "https://localhost:8080/"
        },
        "id": "MfCPyBLwibew",
        "outputId": "b837e980-b9ba-4d8e-fdd8-d17c3c2f3b10"
      },
      "execution_count": 8,
      "outputs": [
        {
          "output_type": "execute_result",
          "data": {
            "text/plain": [
              "60"
            ]
          },
          "metadata": {},
          "execution_count": 8
        }
      ]
    },
    {
      "cell_type": "markdown",
      "source": [
        "Generate training data for SkipGrams model <br>\n",
        "Task - Predicting range(=window size) of words before and after the current word\n",
        "*   Prepare context labels as pairs of **(input token, context token)**<br>\n",
        "Example, \"The patient was diagnosed with hypertension\" - <br>\n",
        "(\"diagnosed\", \"patient\")<br>\n",
        "(\"diagnosed\", \"was\")<br>\n",
        "(\"diagnosed\", \"with\")<br>\n",
        "(\"diagnosed\", \"hypertension\")<br>\n",
        "For window size = 2. (2 words before and 2 words after)"
      ],
      "metadata": {
        "id": "T_1yAMMxppOC"
      }
    },
    {
      "cell_type": "code",
      "source": [
        "def concat(*iterables):\n",
        "  for iterable in iterables:\n",
        "    yield from iterable\n",
        "array = concat(range(0, 2), range(2, 4))\n",
        "for a in array:\n",
        "  print(a)"
      ],
      "metadata": {
        "colab": {
          "base_uri": "https://localhost:8080/"
        },
        "id": "VOgI06X13F3Z",
        "outputId": "722ddbb9-2af5-4bbd-d439-cac2bac90604"
      },
      "execution_count": 10,
      "outputs": [
        {
          "output_type": "stream",
          "name": "stdout",
          "text": [
            "0\n",
            "1\n",
            "2\n",
            "3\n"
          ]
        }
      ]
    },
    {
      "cell_type": "code",
      "source": [
        "def generate_training_data(tokens, window_size, word2idx):\n",
        "  X = []\n",
        "  y = []\n",
        "  for i in range(len(tokens)):\n",
        "    context_start = max(0, i - window_size)\n",
        "    context_end = min(len(tokens), i + window_size + 1)\n",
        "    context = tokens[context_start:i] + tokens[i+1:context_end]\n",
        "    for j in range(len(context)):\n",
        "      X.append(one_hot_encode(word2idx[tokens[i]], len(vocab)))\n",
        "      y.append(one_hot_encode(word2idx[context[j]], len(vocab)))\n",
        "  return np.array(X), np.array(y)\n",
        "\n",
        "def one_hot_encode(idx, size):\n",
        "  one_hot = np.zeros(size)\n",
        "  one_hot[idx] = 1\n",
        "  return one_hot\n",
        "\n",
        "X, y = generate_training_data(tokens, 2, word2idx)"
      ],
      "metadata": {
        "id": "6hloazdr1MTJ"
      },
      "execution_count": 11,
      "outputs": []
    },
    {
      "cell_type": "markdown",
      "source": [
        "X and y are made separately instead of pair as shown in example. This is done for future benefit for matrix operations."
      ],
      "metadata": {
        "id": "DJqJ5TdA8Eur"
      }
    },
    {
      "cell_type": "code",
      "source": [
        "X.shape"
      ],
      "metadata": {
        "colab": {
          "base_uri": "https://localhost:8080/"
        },
        "id": "fihci7rt7rSR",
        "outputId": "4dd252d1-a04c-410c-b95b-214acb6d9ce2"
      },
      "execution_count": 12,
      "outputs": [
        {
          "output_type": "execute_result",
          "data": {
            "text/plain": [
              "(318, 60)"
            ]
          },
          "metadata": {},
          "execution_count": 12
        }
      ]
    },
    {
      "cell_type": "code",
      "source": [
        "y.shape"
      ],
      "metadata": {
        "colab": {
          "base_uri": "https://localhost:8080/"
        },
        "id": "OSGAqopG7tN3",
        "outputId": "17db3ef0-018a-429f-bea6-2218b7a1899b"
      },
      "execution_count": 13,
      "outputs": [
        {
          "output_type": "execute_result",
          "data": {
            "text/plain": [
              "(318, 60)"
            ]
          },
          "metadata": {},
          "execution_count": 13
        }
      ]
    },
    {
      "cell_type": "code",
      "source": [
        "X"
      ],
      "metadata": {
        "colab": {
          "base_uri": "https://localhost:8080/"
        },
        "id": "dQWwWBWv7yEf",
        "outputId": "bc6b976a-2c75-4937-ca90-e194f6bd2df7"
      },
      "execution_count": 14,
      "outputs": [
        {
          "output_type": "execute_result",
          "data": {
            "text/plain": [
              "array([[1., 0., 0., ..., 0., 0., 0.],\n",
              "       [1., 0., 0., ..., 0., 0., 0.],\n",
              "       [0., 1., 0., ..., 0., 0., 0.],\n",
              "       ...,\n",
              "       [0., 0., 0., ..., 0., 1., 0.],\n",
              "       [0., 0., 0., ..., 0., 0., 1.],\n",
              "       [0., 0., 0., ..., 0., 0., 1.]])"
            ]
          },
          "metadata": {},
          "execution_count": 14
        }
      ]
    },
    {
      "cell_type": "code",
      "source": [
        "y"
      ],
      "metadata": {
        "colab": {
          "base_uri": "https://localhost:8080/"
        },
        "id": "2fnLOIEn7_zJ",
        "outputId": "23b09bbf-9f94-48a4-e8d9-9b748fbdda4c"
      },
      "execution_count": 15,
      "outputs": [
        {
          "output_type": "execute_result",
          "data": {
            "text/plain": [
              "array([[0., 1., 0., ..., 0., 0., 0.],\n",
              "       [0., 0., 1., ..., 0., 0., 0.],\n",
              "       [1., 0., 0., ..., 0., 0., 0.],\n",
              "       ...,\n",
              "       [0., 0., 0., ..., 0., 0., 1.],\n",
              "       [0., 0., 0., ..., 1., 0., 0.],\n",
              "       [0., 0., 0., ..., 0., 1., 0.]])"
            ]
          },
          "metadata": {},
          "execution_count": 15
        }
      ]
    },
    {
      "cell_type": "code",
      "source": [],
      "metadata": {
        "id": "UkZq6JUl8CqI"
      },
      "execution_count": null,
      "outputs": []
    }
  ]
}